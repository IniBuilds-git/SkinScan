{
 "cells": [
  {
   "cell_type": "code",
   "execution_count": 9,
   "id": "22eb4023",
   "metadata": {},
   "outputs": [],
   "source": [
    "import os\n",
    "import random\n",
    "import pandas as pd\n",
    "from PIL import Image\n",
    "from collections import defaultdict\n",
    "import matplotlib.pyplot as plt\n",
    "from tqdm import tqdm\n"
   ]
  },
  {
   "cell_type": "code",
   "execution_count": 8,
   "id": "e079c9bb",
   "metadata": {},
   "outputs": [],
   "source": [
    "# Path to the dataset\n",
    "dataset_path = '../dataset/raw'\n",
    "\n",
    "# Output directory for plots and logs\n",
    "OUTPUT_DIR = '../dataset/exploration'\n",
    "os.makedirs(OUTPUT_DIR, exist_ok=True)\n"
   ]
  },
  {
   "cell_type": "code",
   "execution_count": 10,
   "id": "b59ebd9d",
   "metadata": {},
   "outputs": [
    {
     "name": "stdout",
     "output_type": "stream",
     "text": [
      "Detected dataset structure: split\n"
     ]
    }
   ],
   "source": [
    "\n",
    "# Detect dataset structure\n",
    "subdirs = [d for d in os.listdir(dataset_path) if os.path.isdir(os.path.join(dataset_path, d))]\n",
    "has_train_test_split = 'train' in subdirs and 'test' in subdirs\n",
    "\n",
    "if has_train_test_split:\n",
    "    dataset_type = \"split\"\n",
    "    dataset_subdirs = {'train': os.path.join(dataset_path, 'train'), 'test': os.path.join(dataset_path, 'test')}\n",
    "elif all(len(os.listdir(os.path.join(dataset_path, d))) > 0 for d in subdirs):\n",
    "    dataset_type = \"container\"\n",
    "    dataset_subdirs = {'all': dataset_path}\n",
    "else:\n",
    "    dataset_type = \"flat\"\n",
    "    dataset_subdirs = {'all': dataset_path}\n",
    "\n",
    "print(f\"Detected dataset structure: {dataset_type}\")\n"
   ]
  },
  {
   "cell_type": "code",
   "execution_count": null,
   "id": "c08d3b4d",
   "metadata": {},
   "outputs": [
    {
     "name": "stdout",
     "output_type": "stream",
     "text": [
      "\n",
      "Class distribution summary:\n"
     ]
    }
   ],
   "source": [
    "# Count images per class\n",
    "class_counts = defaultdict(dict)\n",
    "\n",
    "for subset, path in dataset_subdirs.items():\n",
    "    for class_dir in os.listdir(path):\n",
    "        class_path = os.path.join(path, class_dir)\n",
    "        if os.path.isdir(class_path):\n",
    "            count = len([f for f in os.listdir(class_path) if f.lower().endswith(('.png', '.jpg', '.jpeg'))])\n",
    "            class_counts[class_dir][subset] = count\n",
    "\n",
    "# Format and display class distribution\n",
    "print(\"\\nClass distribution summary:\")\n",
    "if dataset_type == \"split\":\n",
    "    df_dist = pd.DataFrame(class_counts).T.fillna(0).astype(int)\n",
    "else:\n",
    "    df_dist = pd.DataFrame.from_dict(class_counts, orient='index').fillna(0).astype(int)\n",
    "print(df_dist.sort_values(by=df_dist.columns[-1], ascending=False))"
   ]
  },
  {
   "cell_type": "code",
   "execution_count": 12,
   "id": "20ef6e74",
   "metadata": {},
   "outputs": [],
   "source": [
    "# Bar plot of class distribution\n",
    "plt.figure(figsize=(12, 6))\n",
    "if dataset_type == \"split\":\n",
    "    df_dist.plot(kind='bar', stacked=True, colormap='tab10', edgecolor='black', ax=plt.gca())\n",
    "    plt.title('Class Distribution (Train/Test Split)')\n",
    "else:\n",
    "    df_dist.plot(kind='bar', color='skyblue', edgecolor='black', ax=plt.gca())\n",
    "    plt.title('Class Distribution')\n",
    "plt.xlabel('Class')\n",
    "plt.ylabel('Number of Images')\n",
    "plt.xticks(rotation=45, ha='right')\n",
    "plt.tight_layout()\n",
    "plt.savefig(os.path.join(OUTPUT_DIR, 'class_distribution.png'))\n",
    "plt.close()\n"
   ]
  },
  {
   "cell_type": "code",
   "execution_count": 13,
   "id": "b2bcbbf8",
   "metadata": {},
   "outputs": [
    {
     "name": "stderr",
     "output_type": "stream",
     "text": [
      "Processing train set: 100%|██████████| 22/22 [00:00<00:00, 94.03it/s]\n",
      "Processing test set: 100%|██████████| 22/22 [00:00<00:00, 116.83it/s]\n"
     ]
    },
    {
     "name": "stdout",
     "output_type": "stream",
     "text": [
      "\n",
      "📊 All exploration results have been saved to: ../dataset/exploration\n"
     ]
    }
   ],
   "source": [
    "# Image properties collection\n",
    "image_data = []\n",
    "for subset, path in dataset_subdirs.items():\n",
    "    for class_dir in tqdm(os.listdir(path), desc=f\"Processing {subset} set\"):\n",
    "        class_path = os.path.join(path, class_dir)\n",
    "        if os.path.isdir(class_path):\n",
    "            all_images = [f for f in os.listdir(class_path) if f.lower().endswith(('.png', '.jpg', '.jpeg'))]\n",
    "            sampled_files = random.sample(all_images, min(50, len(all_images)))\n",
    "\n",
    "            for img_file in sampled_files:\n",
    "                img_path = os.path.join(class_path, img_file)\n",
    "                try:\n",
    "                    with Image.open(img_path) as img:\n",
    "                        width, height = img.size\n",
    "                        image_data.append({\n",
    "                            'subset': subset,\n",
    "                            'class': class_dir,\n",
    "                            'filename': img_file,\n",
    "                            'width': width,\n",
    "                            'height': height,\n",
    "                            'aspect_ratio': width / height,\n",
    "                            'format': img.format,\n",
    "                            'file_size_kb': os.path.getsize(img_path) / 1024\n",
    "                        })\n",
    "                except Exception as e:\n",
    "                    with open(os.path.join(OUTPUT_DIR, \"errors.txt\"), \"a\") as err_log:\n",
    "                        err_log.write(f\"{img_path} - {str(e)}\\n\")\n",
    "\n",
    "# Create DataFrame\n",
    "df = pd.DataFrame(image_data)\n",
    "df.to_csv(os.path.join(OUTPUT_DIR, 'image_properties.csv'), index=False)\n",
    "\n",
    "# Image size stats\n",
    "plt.figure(figsize=(14, 5))\n",
    "\n",
    "plt.subplot(1, 3, 1)\n",
    "df['width'].hist(bins=20, color='skyblue', edgecolor='black')\n",
    "plt.title('Image Width Distribution')\n",
    "plt.xlabel('Width (px)')\n",
    "plt.ylabel('Count')\n",
    "\n",
    "plt.subplot(1, 3, 2)\n",
    "df['height'].hist(bins=20, color='salmon', edgecolor='black')\n",
    "plt.title('Image Height Distribution')\n",
    "plt.xlabel('Height (px)')\n",
    "plt.ylabel('Count')\n",
    "\n",
    "plt.subplot(1, 3, 3)\n",
    "df['aspect_ratio'].hist(bins=20, color='lightgreen', edgecolor='black')\n",
    "plt.title('Aspect Ratio Distribution')\n",
    "plt.xlabel('Aspect Ratio (W/H)')\n",
    "plt.ylabel('Count')\n",
    "\n",
    "plt.tight_layout()\n",
    "plt.savefig(os.path.join(OUTPUT_DIR, 'image_size_distributions.png'))\n",
    "plt.close()\n",
    "\n",
    "# Format distribution\n",
    "plt.figure(figsize=(6, 4))\n",
    "df['format'].value_counts().plot(kind='bar', color='purple', edgecolor='black')\n",
    "plt.title('Image Format Distribution')\n",
    "plt.xlabel('Format')\n",
    "plt.ylabel('Count')\n",
    "plt.tight_layout()\n",
    "plt.savefig(os.path.join(OUTPUT_DIR, 'image_format_distribution.png'))\n",
    "plt.close()\n",
    "\n",
    "# File size distribution\n",
    "plt.figure(figsize=(8, 4))\n",
    "df['file_size_kb'].hist(bins=30, color='orange', edgecolor='black')\n",
    "plt.title('Image File Size Distribution')\n",
    "plt.xlabel('File Size (KB)')\n",
    "plt.ylabel('Count')\n",
    "plt.tight_layout()\n",
    "plt.savefig(os.path.join(OUTPUT_DIR, 'image_file_size_distribution.png'))\n",
    "plt.close()\n",
    "\n",
    "print(f\"\\n📊 All exploration results have been saved to: {OUTPUT_DIR}\")\n"
   ]
  }
 ],
 "metadata": {
  "kernelspec": {
   "display_name": "myenv",
   "language": "python",
   "name": "python3"
  },
  "language_info": {
   "codemirror_mode": {
    "name": "ipython",
    "version": 3
   },
   "file_extension": ".py",
   "mimetype": "text/x-python",
   "name": "python",
   "nbconvert_exporter": "python",
   "pygments_lexer": "ipython3",
   "version": "3.10.11"
  }
 },
 "nbformat": 4,
 "nbformat_minor": 5
}
