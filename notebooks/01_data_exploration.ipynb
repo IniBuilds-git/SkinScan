{
 "cells": [
  {
   "cell_type": "code",
   "execution_count": 2,
   "id": "22eb4023",
   "metadata": {},
   "outputs": [
    {
     "name": "stdout",
     "output_type": "stream",
     "text": [
      "Requirement already satisfied: pandas in /Users/inioluwaalake/Personal Project/SkinScan/.venv/lib/python3.13/site-packages (2.3.1)\n",
      "Requirement already satisfied: numpy>=1.26.0 in /Users/inioluwaalake/Personal Project/SkinScan/.venv/lib/python3.13/site-packages (from pandas) (2.3.1)\n",
      "Requirement already satisfied: python-dateutil>=2.8.2 in /Users/inioluwaalake/Personal Project/SkinScan/.venv/lib/python3.13/site-packages (from pandas) (2.9.0.post0)\n",
      "Requirement already satisfied: pytz>=2020.1 in /Users/inioluwaalake/Personal Project/SkinScan/.venv/lib/python3.13/site-packages (from pandas) (2025.2)\n",
      "Requirement already satisfied: tzdata>=2022.7 in /Users/inioluwaalake/Personal Project/SkinScan/.venv/lib/python3.13/site-packages (from pandas) (2025.2)\n",
      "Requirement already satisfied: six>=1.5 in /Users/inioluwaalake/Personal Project/SkinScan/.venv/lib/python3.13/site-packages (from python-dateutil>=2.8.2->pandas) (1.17.0)\n",
      "Note: you may need to restart the kernel to use updated packages.\n",
      "Requirement already satisfied: pillow in /Users/inioluwaalake/Personal Project/SkinScan/.venv/lib/python3.13/site-packages (11.3.0)\n",
      "Note: you may need to restart the kernel to use updated packages.\n",
      "Requirement already satisfied: matplotlib in /Users/inioluwaalake/Personal Project/SkinScan/.venv/lib/python3.13/site-packages (3.10.3)\n",
      "Requirement already satisfied: contourpy>=1.0.1 in /Users/inioluwaalake/Personal Project/SkinScan/.venv/lib/python3.13/site-packages (from matplotlib) (1.3.2)\n",
      "Requirement already satisfied: cycler>=0.10 in /Users/inioluwaalake/Personal Project/SkinScan/.venv/lib/python3.13/site-packages (from matplotlib) (0.12.1)\n",
      "Requirement already satisfied: fonttools>=4.22.0 in /Users/inioluwaalake/Personal Project/SkinScan/.venv/lib/python3.13/site-packages (from matplotlib) (4.58.5)\n",
      "Requirement already satisfied: kiwisolver>=1.3.1 in /Users/inioluwaalake/Personal Project/SkinScan/.venv/lib/python3.13/site-packages (from matplotlib) (1.4.8)\n",
      "Requirement already satisfied: numpy>=1.23 in /Users/inioluwaalake/Personal Project/SkinScan/.venv/lib/python3.13/site-packages (from matplotlib) (2.3.1)\n",
      "Requirement already satisfied: packaging>=20.0 in /Users/inioluwaalake/Personal Project/SkinScan/.venv/lib/python3.13/site-packages (from matplotlib) (25.0)\n",
      "Requirement already satisfied: pillow>=8 in /Users/inioluwaalake/Personal Project/SkinScan/.venv/lib/python3.13/site-packages (from matplotlib) (11.3.0)\n",
      "Requirement already satisfied: pyparsing>=2.3.1 in /Users/inioluwaalake/Personal Project/SkinScan/.venv/lib/python3.13/site-packages (from matplotlib) (3.2.3)\n",
      "Requirement already satisfied: python-dateutil>=2.7 in /Users/inioluwaalake/Personal Project/SkinScan/.venv/lib/python3.13/site-packages (from matplotlib) (2.9.0.post0)\n",
      "Requirement already satisfied: six>=1.5 in /Users/inioluwaalake/Personal Project/SkinScan/.venv/lib/python3.13/site-packages (from python-dateutil>=2.7->matplotlib) (1.17.0)\n",
      "Note: you may need to restart the kernel to use updated packages.\n",
      "Requirement already satisfied: tqdm in /Users/inioluwaalake/Personal Project/SkinScan/.venv/lib/python3.13/site-packages (4.67.1)\n",
      "Note: you may need to restart the kernel to use updated packages.\n"
     ]
    }
   ],
   "source": [
    "%pip install pandas\n",
    "%pip install pillow\n",
    "%pip install matplotlib\n",
    "%pip install tqdm\n"
   ]
  },
  {
   "cell_type": "code",
   "execution_count": 3,
   "id": "e60d2012",
   "metadata": {},
   "outputs": [],
   "source": [
    "import os\n",
    "import random\n",
    "import pandas as pd\n",
    "from PIL import Image\n",
    "from collections import defaultdict\n",
    "import matplotlib.pyplot as plt\n",
    "from tqdm import tqdm\n"
   ]
  },
  {
   "cell_type": "code",
   "execution_count": 8,
   "id": "e079c9bb",
   "metadata": {},
   "outputs": [],
   "source": [
    "# Path to the dataset\n",
    "dataset_path = '../dataset/raw'\n",
    "\n",
    "# Output directory for plots and logs\n",
    "OUTPUT_DIR = '../dataset/exploration'\n",
    "os.makedirs(OUTPUT_DIR, exist_ok=True)\n"
   ]
  },
  {
   "cell_type": "code",
   "execution_count": 9,
   "id": "b59ebd9d",
   "metadata": {},
   "outputs": [
    {
     "name": "stdout",
     "output_type": "stream",
     "text": [
      "Detected dataset structure: split\n"
     ]
    }
   ],
   "source": [
    "\n",
    "# Detect dataset structure\n",
    "subdirs = [d for d in os.listdir(dataset_path) if os.path.isdir(os.path.join(dataset_path, d))]\n",
    "has_train_test_split = 'train' in subdirs and 'test' in subdirs\n",
    "\n",
    "if has_train_test_split:\n",
    "    dataset_type = \"split\"\n",
    "    dataset_subdirs = {'train': os.path.join(dataset_path, 'train'), 'test': os.path.join(dataset_path, 'test')}\n",
    "elif all(len(os.listdir(os.path.join(dataset_path, d))) > 0 for d in subdirs):\n",
    "    dataset_type = \"container\"\n",
    "    dataset_subdirs = {'all': dataset_path}\n",
    "else:\n",
    "    dataset_type = \"flat\"\n",
    "    dataset_subdirs = {'all': dataset_path}\n",
    "\n",
    "print(f\"Detected dataset structure: {dataset_type}\")\n"
   ]
  },
  {
   "cell_type": "code",
   "execution_count": 10,
   "id": "c08d3b4d",
   "metadata": {},
   "outputs": [
    {
     "name": "stdout",
     "output_type": "stream",
     "text": [
      "\n",
      "Class distribution summary:\n",
      "                     train  test\n",
      "Unknown_Normal        1651   189\n",
      "Benign_tumors         1093   121\n",
      "Eczema                1010   112\n",
      "Tinea                  923   102\n",
      "Psoriasis              820    88\n",
      "Actinic_Keratosis      748    83\n",
      "Vitiligo               714    82\n",
      "SkinCancer             693    77\n",
      "Acne                   593    65\n",
      "Warts                  580    64\n",
      "Lichen                 553    61\n",
      "DrugEruption           547    61\n",
      "Vascular_Tumors        543    60\n",
      "Infestations_Bites     524    60\n",
      "Bullous                504    55\n",
      "Vasculitis             461    52\n",
      "Seborrh_Keratoses      455    51\n",
      "Moles                  361    40\n",
      "Lupus                  311    34\n",
      "Sun_Sunlight_Damage    312    34\n",
      "Rosacea                254    28\n",
      "Candidiasis            248    27\n"
     ]
    }
   ],
   "source": [
    "# Count images per class\n",
    "class_counts = defaultdict(dict)\n",
    "\n",
    "for subset, path in dataset_subdirs.items():\n",
    "    for class_dir in os.listdir(path):\n",
    "        class_path = os.path.join(path, class_dir)\n",
    "        if os.path.isdir(class_path):\n",
    "            count = len([f for f in os.listdir(class_path) if f.lower().endswith(('.png', '.jpg', '.jpeg'))])\n",
    "            class_counts[class_dir][subset] = count\n",
    "\n",
    "# Format and display class distribution\n",
    "print(\"\\nClass distribution summary:\")\n",
    "if dataset_type == \"split\":\n",
    "    df_dist = pd.DataFrame(class_counts).T.fillna(0).astype(int)\n",
    "else:\n",
    "    df_dist = pd.DataFrame.from_dict(class_counts, orient='index').fillna(0).astype(int)\n",
    "print(df_dist.sort_values(by=df_dist.columns[-1], ascending=False))"
   ]
  },
  {
   "cell_type": "code",
   "execution_count": 11,
   "id": "20ef6e74",
   "metadata": {},
   "outputs": [],
   "source": [
    "# Bar plot of class distribution\n",
    "plt.figure(figsize=(12, 6))\n",
    "if dataset_type == \"split\":\n",
    "    df_dist.plot(kind='bar', stacked=True, colormap='tab10', edgecolor='black', ax=plt.gca())\n",
    "    plt.title('Class Distribution (Train/Test Split)')\n",
    "else:\n",
    "    df_dist.plot(kind='bar', color='skyblue', edgecolor='black', ax=plt.gca())\n",
    "    plt.title('Class Distribution')\n",
    "plt.xlabel('Class')\n",
    "plt.ylabel('Number of Images')\n",
    "plt.xticks(rotation=45, ha='right')\n",
    "plt.tight_layout()\n",
    "plt.savefig(os.path.join(OUTPUT_DIR, 'class_distribution.png'))\n",
    "plt.close()\n"
   ]
  },
  {
   "cell_type": "code",
   "execution_count": 12,
   "id": "b2bcbbf8",
   "metadata": {},
   "outputs": [
    {
     "name": "stderr",
     "output_type": "stream",
     "text": [
      "Processing train set: 100%|██████████| 22/22 [00:00<00:00, 132.22it/s]\n",
      "Processing test set: 100%|██████████| 22/22 [00:00<00:00, 171.09it/s]\n"
     ]
    },
    {
     "name": "stdout",
     "output_type": "stream",
     "text": [
      "\n",
      "📊 All exploration results have been saved to: ../dataset/exploration\n"
     ]
    }
   ],
   "source": [
    "# Image properties collection\n",
    "image_data = []\n",
    "for subset, path in dataset_subdirs.items():\n",
    "    for class_dir in tqdm(os.listdir(path), desc=f\"Processing {subset} set\"):\n",
    "        class_path = os.path.join(path, class_dir)\n",
    "        if os.path.isdir(class_path):\n",
    "            all_images = [f for f in os.listdir(class_path) if f.lower().endswith(('.png', '.jpg', '.jpeg'))]\n",
    "            sampled_files = random.sample(all_images, min(50, len(all_images)))\n",
    "\n",
    "            for img_file in sampled_files:\n",
    "                img_path = os.path.join(class_path, img_file)\n",
    "                try:\n",
    "                    with Image.open(img_path) as img:\n",
    "                        width, height = img.size\n",
    "                        image_data.append({\n",
    "                            'subset': subset,\n",
    "                            'class': class_dir,\n",
    "                            'filename': img_file,\n",
    "                            'width': width,\n",
    "                            'height': height,\n",
    "                            'aspect_ratio': width / height,\n",
    "                            'format': img.format,\n",
    "                            'file_size_kb': os.path.getsize(img_path) / 1024\n",
    "                        })\n",
    "                except Exception as e:\n",
    "                    with open(os.path.join(OUTPUT_DIR, \"errors.txt\"), \"a\") as err_log:\n",
    "                        err_log.write(f\"{img_path} - {str(e)}\\n\")\n",
    "\n",
    "# Create DataFrame\n",
    "df = pd.DataFrame(image_data)\n",
    "df.to_csv(os.path.join(OUTPUT_DIR, 'image_properties.csv'), index=False)\n",
    "\n",
    "# Image size stats\n",
    "plt.figure(figsize=(14, 5))\n",
    "\n",
    "plt.subplot(1, 3, 1)\n",
    "df['width'].hist(bins=20, color='skyblue', edgecolor='black')\n",
    "plt.title('Image Width Distribution')\n",
    "plt.xlabel('Width (px)')\n",
    "plt.ylabel('Count')\n",
    "\n",
    "plt.subplot(1, 3, 2)\n",
    "df['height'].hist(bins=20, color='salmon', edgecolor='black')\n",
    "plt.title('Image Height Distribution')\n",
    "plt.xlabel('Height (px)')\n",
    "plt.ylabel('Count')\n",
    "\n",
    "plt.subplot(1, 3, 3)\n",
    "df['aspect_ratio'].hist(bins=20, color='lightgreen', edgecolor='black')\n",
    "plt.title('Aspect Ratio Distribution')\n",
    "plt.xlabel('Aspect Ratio (W/H)')\n",
    "plt.ylabel('Count')\n",
    "\n",
    "plt.tight_layout()\n",
    "plt.savefig(os.path.join(OUTPUT_DIR, 'image_size_distributions.png'))\n",
    "plt.close()\n",
    "\n",
    "# Format distribution\n",
    "plt.figure(figsize=(6, 4))\n",
    "df['format'].value_counts().plot(kind='bar', color='purple', edgecolor='black')\n",
    "plt.title('Image Format Distribution')\n",
    "plt.xlabel('Format')\n",
    "plt.ylabel('Count')\n",
    "plt.tight_layout()\n",
    "plt.savefig(os.path.join(OUTPUT_DIR, 'image_format_distribution.png'))\n",
    "plt.close()\n",
    "\n",
    "# File size distribution\n",
    "plt.figure(figsize=(8, 4))\n",
    "df['file_size_kb'].hist(bins=30, color='orange', edgecolor='black')\n",
    "plt.title('Image File Size Distribution')\n",
    "plt.xlabel('File Size (KB)')\n",
    "plt.ylabel('Count')\n",
    "plt.tight_layout()\n",
    "plt.savefig(os.path.join(OUTPUT_DIR, 'image_file_size_distribution.png'))\n",
    "plt.close()\n",
    "\n",
    "print(f\"\\n📊 All exploration results have been saved to: {OUTPUT_DIR}\")\n"
   ]
  }
 ],
 "metadata": {
  "kernelspec": {
   "display_name": ".venv",
   "language": "python",
   "name": "python3"
  },
  "language_info": {
   "codemirror_mode": {
    "name": "ipython",
    "version": 3
   },
   "file_extension": ".py",
   "mimetype": "text/x-python",
   "name": "python",
   "nbconvert_exporter": "python",
   "pygments_lexer": "ipython3",
   "version": "3.13.5"
  }
 },
 "nbformat": 4,
 "nbformat_minor": 5
}
